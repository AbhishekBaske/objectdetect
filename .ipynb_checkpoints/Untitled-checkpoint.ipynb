{
 "cells": [
  {
   "cell_type": "code",
   "execution_count": null,
   "id": "ac8c53ad",
   "metadata": {},
   "outputs": [],
   "source": [
    "pip install torch"
   ]
  },
  {
   "cell_type": "code",
   "execution_count": null,
   "id": "76b81304",
   "metadata": {},
   "outputs": [],
   "source": [
    "pip install json"
   ]
  },
  {
   "cell_type": "code",
   "execution_count": null,
   "id": "cfee8c48",
   "metadata": {},
   "outputs": [],
   "source": [
    "pip install opencv-python"
   ]
  },
  {
   "cell_type": "code",
   "execution_count": null,
   "id": "6770319d",
   "metadata": {},
   "outputs": [],
   "source": [
    "import cv2\n",
    "import json\n",
    "import random\n",
    "\n",
    "\n",
    "\n",
    "# Load the annotations from a COCO JSON file\n",
    "with open('export-2023-02-26T21_56_25.914Z.json', 'r') as f:\n",
    "    dataset = json.load(f)\n",
    "\n",
    "\n",
    "image1 = cv2.imread('1.jpg')\n",
    "image2 = cv2.imread('2.jpg')\n",
    "image3 = cv2.imread('3.jpg')\n",
    "image4 = cv2.imread('4.jpg')\n",
    "image5 = cv2.imread('5.jpg')\n",
    "image6 = cv2.imread('6.jpg')\n",
    "\n",
    "images = [image1,image2,image3,image4,image5,image6]\n",
    "\n",
    "\n",
    "random.shuffle(dataset)\n",
    "\n",
    "# Calculate the number of samples to use for training and validation\n",
    "num_train_samples = int(0.7 * len(dataset))\n",
    "num_val_samples = len(dataset) - num_train_samples\n",
    "\n",
    "# Split the dataset into training and validation sets\n",
    "train_set = dataset[:num_train_samples]\n",
    "val_set = dataset[num_train_samples:]\n",
    "\n",
    "# Print the number of samples in each set\n",
    "print(f\"Number of training samples: {len(train_set)}\")\n",
    "print(f\"Number of validation samples: {len(val_set)}\")\n",
    "\n",
    "\n",
    "\n",
    "\n",
    "\n"
   ]
  },
  {
   "cell_type": "code",
   "execution_count": null,
   "id": "01767a5f",
   "metadata": {},
   "outputs": [],
   "source": [
    "print(images)"
   ]
  },
  {
   "cell_type": "code",
   "execution_count": null,
   "id": "29246789",
   "metadata": {},
   "outputs": [],
   "source": []
  }
 ],
 "metadata": {
  "kernelspec": {
   "display_name": "Python 3 (ipykernel)",
   "language": "python",
   "name": "python3"
  },
  "language_info": {
   "codemirror_mode": {
    "name": "ipython",
    "version": 3
   },
   "file_extension": ".py",
   "mimetype": "text/x-python",
   "name": "python",
   "nbconvert_exporter": "python",
   "pygments_lexer": "ipython3",
   "version": "3.9.12"
  }
 },
 "nbformat": 4,
 "nbformat_minor": 5
}
